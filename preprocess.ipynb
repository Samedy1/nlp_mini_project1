{
 "cells": [
  {
   "cell_type": "markdown",
   "metadata": {},
   "source": [
    "## 1. Data Preparation"
   ]
  },
  {
   "cell_type": "code",
   "execution_count": 10,
   "metadata": {},
   "outputs": [],
   "source": [
    "from nltk import sent_tokenize, word_tokenize, ngrams\n",
    "import re\n",
    "import string\n",
    "from nltk.probability import FreqDist"
   ]
  },
  {
   "cell_type": "code",
   "execution_count": 16,
   "metadata": {},
   "outputs": [],
   "source": [
    "class TextPreprocessor:\n",
    "    def __init__(self) -> None:\n",
    "        # read corpus\n",
    "        with open('corpus/corpus.txt', 'r') as infile:\n",
    "            self.file_content = infile.read().replace('\\n', '')\n",
    "            \n",
    "        # split the file content into sentences\n",
    "        self.sentences = sent_tokenize(self.file_content)\n",
    "        \n",
    "        # ---------- Train, Validation, Test ----------\n",
    "        # size of training data\n",
    "        self.training_size = int(len(self.sentences) * 0.7)\n",
    "        self.training_data = self.sentences[:self.training_size]\n",
    "\n",
    "        # size of validation data\n",
    "        self.validation_size = int(len(self.sentences) * 0.1)\n",
    "        self.validation_data = self.sentences[self.training_size:self.training_size + self.validation_size]\n",
    "\n",
    "        self.test_data = self.sentences[self.training_size + self.validation_size:]\n",
    "        \n",
    "        # ---------- Call necessary methods ----------\n",
    "        self.create_freq_n_gram(self.training_data)\n",
    "        pass\n",
    "\n",
    "    def tokenize_words(self, sentences):\n",
    "        emoji_pattern = re.compile(\"[\"\n",
    "                               u\"\\U0001F600-\\U0001F64F\"  # emoticons\n",
    "                               u\"\\U0001F300-\\U0001F5FF\"  # symbols & pictographs\n",
    "                               u\"\\U0001F680-\\U0001F6FF\"  # transport & map symbols\n",
    "                               u\"\\U0001F1E0-\\U0001F1FF\"  # flags (iOS)\n",
    "                               u\"\\U00002702-\\U000027B0\"\n",
    "                               u\"\\U000024C2-\\U0001F251\"\n",
    "                               \"]+\", flags=re.UNICODE)\n",
    "        number_bracket_pattern = re.compile(r\"\\d\")\n",
    "        \n",
    "        # convert to lower case\n",
    "        low_sentences = [sentence.lower() for sentence in sentences]\n",
    "\n",
    "        # remove number bracket\n",
    "        cleaned_sentences = [re.sub(number_bracket_pattern, \"\", sentence) for sentence in low_sentences]\n",
    "\n",
    "        # remove emoji\n",
    "        no_emoji_sentences = [re.sub(emoji_pattern, \"\", sentence) for sentence in cleaned_sentences]\n",
    "\n",
    "        # split each sentence into tokens: [['token', ''token'], ['token', 'token'], ...]\n",
    "        tokens_2d = [word_tokenize(sentence) for sentence in no_emoji_sentences]\n",
    "\n",
    "        # remove punctuation\n",
    "        translator = str.maketrans('', '', string.punctuation)\n",
    "        no_punc_tokens = []\n",
    "        for tokens_1d in tokens_2d:\n",
    "            no_punc_tokens.append([token.translate(translator) for token in tokens_1d])\n",
    "\n",
    "        # # remove empty string\n",
    "        no_empty_tokens = []\n",
    "        for token_1d in no_punc_tokens:\n",
    "            no_empty_tokens.append([token for token in token_1d if token != ''])\n",
    "            \n",
    "        # convert into token list: ['token', 'token']\n",
    "        tokens = []\n",
    "        for sentence in no_empty_tokens:\n",
    "            # add start and end tokens to identify sentence boundary\n",
    "            tokens.append('<s>')\n",
    "            \n",
    "            # add words in each sentence into tokens\n",
    "            tokens.extend(sentence)\n",
    "            tokens.append('</s>')\n",
    "\n",
    "        # create n-grams\n",
    "        uni_grams = []\n",
    "        bi_grams = []\n",
    "        tri_grams = []\n",
    "        four_grams = []\n",
    "\n",
    "        uni_grams.extend(list(ngrams(tokens, n=1)))\n",
    "        bi_grams.extend(list(ngrams(tokens, n=2)))\n",
    "        tri_grams.extend(list(ngrams(tokens, n=3)))\n",
    "        four_grams.extend(list(ngrams(tokens, n=4)))\n",
    "\n",
    "        return {\n",
    "            'sentences': tokens,\n",
    "            'uni_grams': uni_grams,\n",
    "            'bi_grams': bi_grams,\n",
    "            'tri_grams': tri_grams,\n",
    "            'four_grams': four_grams,\n",
    "        }\n",
    "        \n",
    "    def create_freq_n_gram(self, data):\n",
    "        # create a frequency distribution for each n-gram\n",
    "        self.freq_uni = FreqDist()\n",
    "        self.freq_bi = FreqDist()\n",
    "        self.freq_tri = FreqDist()\n",
    "        self.freq_four = FreqDist()\n",
    "\n",
    "        tokenized_words = self.tokenize_words(data);\n",
    "\n",
    "        # count uni-grams\n",
    "        for uni_gram in tokenized_words['uni_grams']:\n",
    "            self.freq_uni[uni_gram] = self.freq_uni[uni_gram] + 1\n",
    "\n",
    "        # count bi-grams\n",
    "        for bi_gram in tokenized_words['bi_grams']:\n",
    "            self.freq_bi[bi_gram] = self.freq_bi[bi_gram] + 1\n",
    "                \n",
    "        # count bi-grams\n",
    "        for tri_gram in tokenized_words['tri_grams']:\n",
    "            self.freq_tri[tri_gram] = self.freq_tri[tri_gram] + 1\n",
    "\n",
    "        # count bi-grams\n",
    "        for four_gram in tokenized_words['four_grams']:\n",
    "            self.freq_four[four_gram] = self.freq_four[four_gram] + 1"
   ]
  },
  {
   "cell_type": "code",
   "execution_count": 17,
   "metadata": {},
   "outputs": [
    {
     "data": {
      "text/plain": [
       "FreqDist({('the',): 480, ('<s>',): 342, ('</s>',): 342, ('of',): 304, ('data',): 299, ('and',): 297, ('to',): 202, ('a',): 190, ('in',): 182, ('is',): 92, ...})"
      ]
     },
     "execution_count": 17,
     "metadata": {},
     "output_type": "execute_result"
    }
   ],
   "source": [
    "TextPreprocessor().freq_uni"
   ]
  },
  {
   "cell_type": "code",
   "execution_count": 3,
   "metadata": {},
   "outputs": [],
   "source": [
    "with open('corpus/corpus.txt', 'r') as infile:\n",
    "    file_content = infile.read().replace('\\n', '')"
   ]
  },
  {
   "cell_type": "code",
   "execution_count": 9,
   "metadata": {},
   "outputs": [
    {
     "data": {
      "text/plain": [
       "['Computer science is the study of computation, information, and automation.',\n",
       " '[1][2][3] Computer science spans theoretical disciplines (such as algorithms, theory of computation, and information theory) to applied disciplines (including the design and implementation of hardware and software).',\n",
       " '[4][5][6] Though more often considered an academic discipline, computer science is closely related to computer programming.',\n",
       " '[7]Algorithms and data structures are central to computer science.',\n",
       " '[8] The theory of computation concerns abstract models of computation and general classes of problems that can be solved using them.']"
      ]
     },
     "execution_count": 9,
     "metadata": {},
     "output_type": "execute_result"
    }
   ],
   "source": [
    "# split the file content into sentences\n",
    "sentences = sent_tokenize(file_content)\n",
    "sentences[:5]"
   ]
  },
  {
   "cell_type": "code",
   "execution_count": 5,
   "metadata": {},
   "outputs": [],
   "source": [
    "# split the sentence list into training set, validation set and test set\n",
    "# size of training data\n",
    "training_size = int(len(sentences) * 0.7)\n",
    "training_data = sentences[:training_size]\n",
    "\n",
    "# size of validation data\n",
    "validation_size = int(len(sentences) * 0.1)\n",
    "validation_data = sentences[training_size:training_size + validation_size]\n",
    "\n",
    "test_data = sentences[training_size + validation_size:]"
   ]
  },
  {
   "cell_type": "code",
   "execution_count": 6,
   "metadata": {},
   "outputs": [],
   "source": [
    "emoji_pattern = re.compile(\"[\"\n",
    "                               u\"\\U0001F600-\\U0001F64F\"  # emoticons\n",
    "                               u\"\\U0001F300-\\U0001F5FF\"  # symbols & pictographs\n",
    "                               u\"\\U0001F680-\\U0001F6FF\"  # transport & map symbols\n",
    "                               u\"\\U0001F1E0-\\U0001F1FF\"  # flags (iOS)\n",
    "                               u\"\\U00002702-\\U000027B0\"\n",
    "                               u\"\\U000024C2-\\U0001F251\"\n",
    "                               \"]+\", flags=re.UNICODE)\n",
    "\n",
    "number_bracket_pattern = re.compile(r\"\\d\")\n",
    "\n",
    "def tokenize_words(data):\n",
    "    # convert to lower case\n",
    "    low_sentences = [sentence.lower() for sentence in sentences]\n",
    "\n",
    "    # remove number bracket\n",
    "    cleaned_sentences = [re.sub(number_bracket_pattern, \"\", sentence) for sentence in low_sentences]\n",
    "\n",
    "    # remove emoji\n",
    "    no_emoji_sentences = [re.sub(emoji_pattern, \"\", sentence) for sentence in cleaned_sentences]\n",
    "\n",
    "    # split each sentence into tokens: [['token', ''token'], ['token', 'token'], ...]\n",
    "    tokens_2d = [word_tokenize(sentence) for sentence in no_emoji_sentences]\n",
    "\n",
    "    # remove punctuation\n",
    "    translator = str.maketrans('', '', string.punctuation)\n",
    "    no_punc_tokens = []\n",
    "    for tokens_1d in tokens_2d:\n",
    "        no_punc_tokens.append([token.translate(translator) for token in tokens_1d])\n",
    "\n",
    "    # # remove empty string\n",
    "    no_empty_tokens = []\n",
    "    for token_1d in no_punc_tokens:\n",
    "        no_empty_tokens.append([token for token in token_1d if token != ''])\n",
    "        \n",
    "    # convert into token list: ['token', 'token']\n",
    "    tokens = []\n",
    "    for sentence in no_empty_tokens:\n",
    "        # add start and end tokens to identify sentence boundary\n",
    "        tokens.append('<s>')\n",
    "        # add words in each sentence into tokens\n",
    "        tokens.extend(sentence)\n",
    "        tokens.append('</s>')\n",
    "\n",
    "    # create n-grams\n",
    "    uni_grams = []\n",
    "    bi_grams = []\n",
    "    tri_grams = []\n",
    "    four_grams = []\n",
    "\n",
    "    uni_grams.extend(list(ngrams(tokens, n=1)))\n",
    "    bi_grams.extend(list(ngrams(tokens, n=2)))\n",
    "    tri_grams.extend(list(ngrams(tokens, n=3)))\n",
    "    four_grams.extend(list(ngrams(tokens, n=4)))\n",
    "\n",
    "    return {\n",
    "        'sentences': tokens,\n",
    "        'uni_grams': uni_grams,\n",
    "        'bi_grams': bi_grams,\n",
    "        'tri_grams': tri_grams,\n",
    "        'four_grams': four_grams,\n",
    "    }"
   ]
  },
  {
   "cell_type": "code",
   "execution_count": 7,
   "metadata": {},
   "outputs": [],
   "source": [
    "# handle unknown word"
   ]
  },
  {
   "cell_type": "code",
   "execution_count": 8,
   "metadata": {},
   "outputs": [],
   "source": [
    "from nltk.probability import FreqDist\n",
    "\n",
    "# create a frequency distribution for each n-gram\n",
    "freq_uni = FreqDist()\n",
    "freq_bi = FreqDist()\n",
    "freq_tri = FreqDist()\n",
    "freq_four = FreqDist()\n",
    "\n",
    "tokenized_words = tokenize_words(training_data);\n",
    "\n",
    "# count uni-grams\n",
    "for uni_gram in tokenized_words['uni_grams']:\n",
    "    freq_uni[uni_gram] = freq_uni[uni_gram] + 1\n",
    "\n",
    "# count bi-grams\n",
    "for bi_gram in tokenized_words['bi_grams']:\n",
    "    freq_bi[bi_gram] = freq_bi[bi_gram] + 1\n",
    "        \n",
    "# count bi-grams\n",
    "for tri_gram in tokenized_words['tri_grams']:\n",
    "    freq_tri[tri_gram] = freq_tri[tri_gram] + 1\n",
    "\n",
    "# count bi-grams\n",
    "for four_gram in tokenized_words['four_grams']:\n",
    "    freq_four[four_gram] = freq_four[four_gram] + 1"
   ]
  }
 ],
 "metadata": {
  "kernelspec": {
   "display_name": "nlp1",
   "language": "python",
   "name": "python3"
  },
  "language_info": {
   "codemirror_mode": {
    "name": "ipython",
    "version": 3
   },
   "file_extension": ".py",
   "mimetype": "text/x-python",
   "name": "python",
   "nbconvert_exporter": "python",
   "pygments_lexer": "ipython3",
   "version": "3.12.0"
  }
 },
 "nbformat": 4,
 "nbformat_minor": 2
}
