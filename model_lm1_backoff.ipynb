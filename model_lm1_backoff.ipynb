{
 "cells": [
  {
   "cell_type": "code",
   "execution_count": 52,
   "metadata": {},
   "outputs": [],
   "source": [
    "# get the preprocessed data from the preprocess file\n",
    "# from preprocess import *"
   ]
  },
  {
   "cell_type": "markdown",
   "metadata": {},
   "source": [
    "## Model Building"
   ]
  },
  {
   "cell_type": "code",
   "execution_count": null,
   "metadata": {},
   "outputs": [],
   "source": [
    "# from nltk.probability import FreqDist\n",
    "\n",
    "# unigram, bigram, trigram, fourgram = tokenize_sentences(tweets)\n",
    "\n",
    "# # Count frequency of unigram, bigram, trigram, and fourgram\n",
    "# unigram_freq = FreqDist()\n",
    "# bigram_freq = FreqDist()\n",
    "# trigram_freq = FreqDist()\n",
    "# fourgram_freq = FreqDist()\n",
    "\n",
    "# for sentence in unigram:\n",
    "#     for word in sentence:\n",
    "#         unigram_freq[word] += 1\n",
    "\n",
    "# for sentence in bigram:\n",
    "#     for word in sentence:\n",
    "#         bigram_freq[word] += 1\n",
    "\n",
    "# for sentence in trigram:\n",
    "#     for word in sentence:\n",
    "#         trigram_freq[word] += 1\n",
    "\n",
    "# for sentence in fourgram:\n",
    "#     for word in sentence:\n",
    "#         fourgram_freq[word] += 1\n",
    "\n",
    "# # Print top 100 most frequent unigram, bigram, trigram, and fourgram\n",
    "# print(\"Top 100 most frequent unigram:\")\n",
    "# print(unigram_freq.most_common(100))\n",
    "# print(\"\\nTop 100 most frequent bigram:\")\n",
    "# print(bigram_freq.most_common(100))\n",
    "# print(\"\\nTop 100 most frequent trigram:\")\n",
    "# print(trigram_freq.most_common(100))\n",
    "# print(\"\\nTop 100 most frequent fourgram:\")\n",
    "# print(fourgram_freq.most_common(100))"
   ]
  },
  {
   "cell_type": "code",
   "execution_count": 13,
   "metadata": {},
   "outputs": [
    {
     "name": "stdout",
     "output_type": "stream",
     "text": [
      "0.2\n",
      "1.0\n",
      "1.0\n",
      "1.0\n"
     ]
    }
   ],
   "source": [
    "class FourGramProbabilityEstimator:\n",
    "    def __init__(self, unigram_counts, bigram_counts, trigram_counts, fourgram_counts):\n",
    "        self.unigram_counts = unigram_counts\n",
    "        self.bigram_counts = bigram_counts\n",
    "        self.trigram_counts = trigram_counts\n",
    "        self.fourgram_counts = fourgram_counts\n",
    "\n",
    "    def probability_uni(self, word):\n",
    "        return self.unigram_counts.get(word, 0) / sum(self.unigram_counts.values())\n",
    "\n",
    "    def probability_bi(self, word, prev_word):\n",
    "        bigram_key = (prev_word, word)\n",
    "        return self.bigram_counts.get(bigram_key, 0) / self.unigram_counts.get(prev_word, 0)\n",
    "\n",
    "    def probability_tri(self, prev_word2, prev_word1, word):\n",
    "        trigram_key = (prev_word2, prev_word1, word)\n",
    "        bigram_key = (prev_word1, word)\n",
    "        return self.trigram_counts.get(trigram_key, 0) / self.bigram_counts.get(bigram_key, 0)\n",
    "\n",
    "    def probability_backoff(self, prev_word3, prev_word2, prev_word1, word):\n",
    "        fourgram = (prev_word3, prev_word2, prev_word1, word)\n",
    "        trigram = (prev_word2, prev_word1, word)\n",
    "        bigram = (prev_word1, word)\n",
    "\n",
    "        fourgram_count = self.fourgram_counts.get(fourgram, 0)\n",
    "        trigram_count = self.trigram_counts.get(trigram, 0)\n",
    "        bigram_count = self.bigram_counts.get(bigram, 0)\n",
    "\n",
    "        if fourgram_count > 0:\n",
    "            return fourgram_count / trigram_count if trigram_count > 0 else 0\n",
    "        elif trigram_count > 0:\n",
    "            return trigram_count / self.bigram_counts.get((prev_word2, prev_word3), 1)\n",
    "        elif bigram_count > 0:\n",
    "            return bigram_count / self.unigram_counts.get(prev_word3, 1)\n",
    "        else:\n",
    "            return self.probability_uni(word)"
   ]
  },
  {
   "cell_type": "code",
   "execution_count": null,
   "metadata": {},
   "outputs": [],
   "source": [
    "import collections \n",
    "\n",
    "unigram_counts = collections.Counter([\"hello\", \"world\", \"how\", \"are\", \"you\"])\n",
    "bigram_counts = collections.Counter([\n",
    "    (\"hello\", \"world\"), (\"world\", \"how\"), (\"how\", \"are\"), (\"are\", \"you\")\n",
    "])\n",
    "trigram_counts = collections.Counter([\n",
    "    (\"hello\", \"world\", \"how\"), (\"how\", \"are\", \"you\")\n",
    "])\n",
    "fourgram_counts = collections.Counter([(\"hello\", \"world\", \"how\", \"are\")])\n",
    "\n",
    "estimator = FourGramProbabilityEstimator(unigram_counts, bigram_counts, trigram_counts, fourgram_counts)\n",
    "\n",
    "print(estimator.probability_uni(\"hello\"))  # Output: 0.25\n",
    "print(estimator.probability_bi(\"world\", \"hello\"))  # Output: 0.5\n",
    "print(estimator.probability_tri(\"hello\", \"world\", \"how\"))  # Output: 1.0\n",
    "print(estimator.probability_backoff(\"x\", \"hello\", \"world\", \"how\"))  # Output: 0.0 (because the 4-gram doesn't exist)\n"
   ]
  },
  {
   "cell_type": "code",
   "execution_count": null,
   "metadata": {},
   "outputs": [],
   "source": []
  },
  {
   "cell_type": "markdown",
   "metadata": {},
   "source": [
    "## Model Evaluation"
   ]
  },
  {
   "cell_type": "code",
   "execution_count": 58,
   "metadata": {},
   "outputs": [],
   "source": [
    "def perplexity_back_off():\n",
    "    return"
   ]
  },
  {
   "cell_type": "markdown",
   "metadata": {},
   "source": [
    "## Text Generation"
   ]
  },
  {
   "cell_type": "code",
   "execution_count": null,
   "metadata": {},
   "outputs": [],
   "source": []
  }
 ],
 "metadata": {
  "kernelspec": {
   "display_name": "Python 3",
   "language": "python",
   "name": "python3"
  },
  "language_info": {
   "codemirror_mode": {
    "name": "ipython",
    "version": 3
   },
   "file_extension": ".py",
   "mimetype": "text/x-python",
   "name": "python",
   "nbconvert_exporter": "python",
   "pygments_lexer": "ipython3",
   "version": "3.10.13"
  }
 },
 "nbformat": 4,
 "nbformat_minor": 2
}
